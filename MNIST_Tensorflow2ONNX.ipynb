{
  "nbformat": 4,
  "nbformat_minor": 0,
  "metadata": {
    "colab": {
      "name": "MNIST-Tensorflow2ONNX.ipynb",
      "provenance": [],
      "collapsed_sections": [],
      "toc_visible": true
    },
    "kernelspec": {
      "name": "python3",
      "display_name": "Python 3"
    },
    "accelerator": "GPU"
  },
  "cells": [
    {
      "cell_type": "markdown",
      "metadata": {
        "id": "4Xk690CbI5mj"
      },
      "source": [
        "# Tensorflow MNIST訓練"
      ]
    },
    {
      "cell_type": "code",
      "metadata": {
        "id": "D4r3NMsh-UVy"
      },
      "source": [
        "import numpy as np\r\n",
        "import tensorflow as tf"
      ],
      "execution_count": 1,
      "outputs": []
    },
    {
      "cell_type": "code",
      "metadata": {
        "id": "P2Cpd-L4-zVr"
      },
      "source": [
        "# MNISTデータロード\r\n",
        "(x_train, y_train), (x_test, y_test) = tf.keras.datasets.mnist.load_data()"
      ],
      "execution_count": 5,
      "outputs": []
    },
    {
      "cell_type": "code",
      "metadata": {
        "id": "GShNCBws-7yj"
      },
      "source": [
        "# 正規化\r\n",
        "x_train = x_train.reshape((60000, 28, 28, 1))\r\n",
        "x_test = x_test.reshape((10000, 28, 28, 1))\r\n",
        "x_train = x_train / 255.0\r\n",
        "x_test = x_test / 255.0"
      ],
      "execution_count": 6,
      "outputs": []
    },
    {
      "cell_type": "code",
      "metadata": {
        "id": "Gf6WFkeX_F6B"
      },
      "source": [
        "# 多層パーセプトロン(MLP)構築\r\n",
        "model = tf.keras.models.Sequential([\r\n",
        "    tf.keras.layers.Input((28, 28, 1)),\r\n",
        "    tf.keras.layers.Conv2D(32, (3, 3), activation='relu'),\r\n",
        "    tf.keras.layers.MaxPooling2D((2, 2)),\r\n",
        "    tf.keras.layers.Conv2D(64, (3, 3), activation='relu'),\r\n",
        "    tf.keras.layers.MaxPooling2D((2, 2)),\r\n",
        "    tf.keras.layers.Conv2D(64, (3, 3), activation='relu'),\r\n",
        "    tf.keras.layers.Flatten(),\r\n",
        "    tf.keras.layers.Dense(64, activation='relu'),\r\n",
        "    tf.keras.layers.Dense(10, activation='softmax')\r\n",
        "])"
      ],
      "execution_count": 7,
      "outputs": []
    },
    {
      "cell_type": "code",
      "metadata": {
        "id": "UENSYGaI_KWe"
      },
      "source": [
        "# モデル可視化\r\n",
        "model.summary()"
      ],
      "execution_count": null,
      "outputs": []
    },
    {
      "cell_type": "code",
      "metadata": {
        "id": "e3Hd72C3_PsR"
      },
      "source": [
        "# モデルコンパイル\r\n",
        "model.compile(\r\n",
        "    optimizer='adam',\r\n",
        "    loss='sparse_categorical_crossentropy',\r\n",
        "    metrics=['accuracy']\r\n",
        ")"
      ],
      "execution_count": 9,
      "outputs": []
    },
    {
      "cell_type": "code",
      "metadata": {
        "id": "k3WvGNq4_VVg"
      },
      "source": [
        "# 訓練\r\n",
        "EPOCHS=50\r\n",
        "model.fit(\r\n",
        "    x_train,\r\n",
        "    y_train,\r\n",
        "    epochs=EPOCHS,\r\n",
        "    batch_size=128,\r\n",
        "    validation_data=(x_test, y_test)\r\n",
        ")"
      ],
      "execution_count": null,
      "outputs": []
    },
    {
      "cell_type": "code",
      "metadata": {
        "id": "7dv53FfR_eME"
      },
      "source": [
        "# モデル評価\r\n",
        "val_loss, val_acc = model.evaluate(x_test, y_test, batch_size=128)"
      ],
      "execution_count": null,
      "outputs": []
    },
    {
      "cell_type": "code",
      "metadata": {
        "id": "M6TLBkEeDKTs"
      },
      "source": [
        "# モデル保存\r\n",
        "model.save('saved_model', save_format='tf')"
      ],
      "execution_count": null,
      "outputs": []
    },
    {
      "cell_type": "markdown",
      "metadata": {
        "id": "KXlcOXLYJErW"
      },
      "source": [
        "# Tensorflow MNIST推論テスト"
      ]
    },
    {
      "cell_type": "code",
      "metadata": {
        "id": "M0-8VjkB_-YL"
      },
      "source": [
        "# 保存したモデルのロード\r\n",
        "load_model = tf.keras.models.load_model('saved_model')"
      ],
      "execution_count": 13,
      "outputs": []
    },
    {
      "cell_type": "code",
      "metadata": {
        "id": "DcEUwAklCOGx"
      },
      "source": [
        "# テスト画像ダウンロード\r\n",
        "!wget 'https://raw.githubusercontent.com/Kazuhito00/tensorflow2-keras-learn/master/01_mlp_mnist/image/03.jpg'"
      ],
      "execution_count": null,
      "outputs": []
    },
    {
      "cell_type": "code",
      "metadata": {
        "colab": {
          "base_uri": "https://localhost:8080/",
          "height": 45
        },
        "id": "wiordMUNBntX",
        "outputId": "37b18354-2276-4abc-bf4e-5e86e947a437"
      },
      "source": [
        "# テスト画像を1枚ロード\r\n",
        "from IPython.display import Image, display_png\r\n",
        "from PIL import Image\r\n",
        "\r\n",
        "img = Image.open('03.jpg')\r\n",
        "img = img.resize((28, 28))\r\n",
        "display_png(img)"
      ],
      "execution_count": 15,
      "outputs": [
        {
          "output_type": "display_data",
          "data": {
            "image/png": "[encoded data removed]"
          },
          "metadata": {
            "tags": []
          }
        }
      ]
    },
    {
      "cell_type": "code",
      "metadata": {
        "id": "chFaEXssBoUR"
      },
      "source": [
        "# 入力画像成形、および正規化\r\n",
        "x = img.convert('L')\r\n",
        "x = np.asarray(x)\r\n",
        "x = x.reshape(-1, 28, 28, 1)\r\n",
        "x = x.astype('float32')\r\n",
        "x /= 255"
      ],
      "execution_count": 33,
      "outputs": []
    },
    {
      "cell_type": "code",
      "metadata": {
        "id": "6daj_uUQSd7H"
      },
      "source": [
        "print(x)"
      ],
      "execution_count": null,
      "outputs": []
    },
    {
      "cell_type": "code",
      "metadata": {
        "id": "0Wrl2-3aBsvF"
      },
      "source": [
        "%%time\r\n",
        "# 推論実行\r\n",
        "predict_result = load_model.predict(x)\r\n",
        "# 推論結果表示\r\n",
        "print(predict_result)\r\n",
        "print(np.squeeze(predict_result))\r\n",
        "print(np.argmax(np.squeeze(predict_result)))"
      ],
      "execution_count": null,
      "outputs": []
    },
    {
      "cell_type": "markdown",
      "metadata": {
        "id": "UPdWOKDnD_Et"
      },
      "source": [
        "# ONNXへ変換"
      ]
    },
    {
      "cell_type": "code",
      "metadata": {
        "id": "J0PogFehB4xd"
      },
      "source": [
        "!pip install onnxruntime\r\n",
        "!pip install tf2onnx"
      ],
      "execution_count": null,
      "outputs": []
    },
    {
      "cell_type": "code",
      "metadata": {
        "id": "Q5MLOwjhD-PQ"
      },
      "source": [
        "!python -m tf2onnx.convert --saved-model='saved_model' \\\r\n",
        "                           --opset=9 \\\r\n",
        "                           --output='mnist.onnx'"
      ],
      "execution_count": null,
      "outputs": []
    },
    {
      "cell_type": "code",
      "metadata": {
        "id": "Gdznf6e6FcvH"
      },
      "source": [
        "import onnxruntime\r\n",
        "sess_onnxruntime = onnxruntime.InferenceSession('mnist.onnx')"
      ],
      "execution_count": 40,
      "outputs": []
    },
    {
      "cell_type": "code",
      "metadata": {
        "id": "AUTGs8a7Hpe9"
      },
      "source": [
        "res = sess_onnxruntime.run(output_names=['Identity:0'], input_feed={'input_1:0': x})\r\n",
        "print(\"The digit is classified as \\\"%s\\\" in ONNXRruntime\"%np.argmax(res))"
      ],
      "execution_count": null,
      "outputs": []
    }
  ]
}